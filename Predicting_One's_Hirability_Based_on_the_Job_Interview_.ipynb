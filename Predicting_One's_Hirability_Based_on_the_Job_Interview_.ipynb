{
  "nbformat": 4,
  "nbformat_minor": 0,
  "metadata": {
    "colab": {
      "name": "Predicting One's Hirability Based on the Job Interview .ipynb",
      "provenance": [],
      "collapsed_sections": [],
      "mount_file_id": "18FbFKFrBFhaGWjXIiGT9EPOL3aN_CMp5",
      "authorship_tag": "ABX9TyOBHWkTJ0QZay88thVBOO4p",
      "include_colab_link": true
    },
    "kernelspec": {
      "name": "python3",
      "display_name": "Python 3"
    },
    "language_info": {
      "name": "python"
    }
  },
  "cells": [
    {
      "cell_type": "markdown",
      "metadata": {
        "id": "view-in-github",
        "colab_type": "text"
      },
      "source": [
        "<a href=\"https://colab.research.google.com/github/adrita23/Predicting-Hirability-from-Job-Interview/blob/main/Predicting_One's_Hirability_Based_on_the_Job_Interview_.ipynb\" target=\"_parent\"><img src=\"https://colab.research.google.com/assets/colab-badge.svg\" alt=\"Open In Colab\"/></a>"
      ]
    },
    {
      "cell_type": "code",
      "metadata": {
        "id": "RiuimabwljRW"
      },
      "source": [
        "#Date: Nov 20, 2021\n",
        "#Author: Adrita Anika"
      ],
      "execution_count": 1,
      "outputs": []
    },
    {
      "cell_type": "code",
      "metadata": {
        "id": "lTgZRytek1ZV"
      },
      "source": [
        "import pandas as pd\n",
        "import numpy as np"
      ],
      "execution_count": 2,
      "outputs": []
    },
    {
      "cell_type": "code",
      "metadata": {
        "id": "XnzvgJc5kPaF"
      },
      "source": [
        "data = pd.read_csv('/content/drive/MyDrive/ML HW/data.csv')"
      ],
      "execution_count": 3,
      "outputs": []
    },
    {
      "cell_type": "code",
      "metadata": {
        "id": "wRnOmMpslR8_",
        "colab": {
          "base_uri": "https://localhost:8080/",
          "height": 457
        },
        "outputId": "652412f2-43b2-4d76-c96e-0bd52e0d296f"
      },
      "source": [
        "data"
      ],
      "execution_count": 4,
      "outputs": [
        {
          "output_type": "execute_result",
          "data": {
            "text/html": [
              "<div>\n",
              "<style scoped>\n",
              "    .dataframe tbody tr th:only-of-type {\n",
              "        vertical-align: middle;\n",
              "    }\n",
              "\n",
              "    .dataframe tbody tr th {\n",
              "        vertical-align: top;\n",
              "    }\n",
              "\n",
              "    .dataframe thead th {\n",
              "        text-align: right;\n",
              "    }\n",
              "</style>\n",
              "<table border=\"1\" class=\"dataframe\">\n",
              "  <thead>\n",
              "    <tr style=\"text-align: right;\">\n",
              "      <th></th>\n",
              "      <th>PID</th>\n",
              "      <th>SCL</th>\n",
              "      <th>SCRamp</th>\n",
              "      <th>SCRfreq</th>\n",
              "      <th>HRmean</th>\n",
              "      <th>ACCmean</th>\n",
              "      <th>Energy</th>\n",
              "      <th>ZCR</th>\n",
              "      <th>VoiceProb</th>\n",
              "      <th>Hirability</th>\n",
              "    </tr>\n",
              "  </thead>\n",
              "  <tbody>\n",
              "    <tr>\n",
              "      <th>0</th>\n",
              "      <td>P1</td>\n",
              "      <td>0.827077</td>\n",
              "      <td>0.094424</td>\n",
              "      <td>2.898792</td>\n",
              "      <td>73.276206</td>\n",
              "      <td>66.491987</td>\n",
              "      <td>0.005447</td>\n",
              "      <td>0.120261</td>\n",
              "      <td>0.403078</td>\n",
              "      <td>4</td>\n",
              "    </tr>\n",
              "    <tr>\n",
              "      <th>1</th>\n",
              "      <td>P2</td>\n",
              "      <td>5.183890</td>\n",
              "      <td>0.244549</td>\n",
              "      <td>5.219806</td>\n",
              "      <td>102.502828</td>\n",
              "      <td>65.031908</td>\n",
              "      <td>0.005782</td>\n",
              "      <td>0.074726</td>\n",
              "      <td>0.457309</td>\n",
              "      <td>5</td>\n",
              "    </tr>\n",
              "    <tr>\n",
              "      <th>2</th>\n",
              "      <td>P3</td>\n",
              "      <td>0.023257</td>\n",
              "      <td>0.000000</td>\n",
              "      <td>0.000000</td>\n",
              "      <td>90.603827</td>\n",
              "      <td>64.658708</td>\n",
              "      <td>0.006265</td>\n",
              "      <td>0.098657</td>\n",
              "      <td>0.427495</td>\n",
              "      <td>5</td>\n",
              "    </tr>\n",
              "    <tr>\n",
              "      <th>3</th>\n",
              "      <td>P4</td>\n",
              "      <td>0.211715</td>\n",
              "      <td>0.008790</td>\n",
              "      <td>2.299042</td>\n",
              "      <td>80.258785</td>\n",
              "      <td>65.260810</td>\n",
              "      <td>0.006127</td>\n",
              "      <td>0.091186</td>\n",
              "      <td>0.437544</td>\n",
              "      <td>3</td>\n",
              "    </tr>\n",
              "    <tr>\n",
              "      <th>4</th>\n",
              "      <td>P5</td>\n",
              "      <td>0.082192</td>\n",
              "      <td>0.011505</td>\n",
              "      <td>1.299459</td>\n",
              "      <td>71.348170</td>\n",
              "      <td>66.607203</td>\n",
              "      <td>0.005081</td>\n",
              "      <td>0.076909</td>\n",
              "      <td>0.374498</td>\n",
              "      <td>4</td>\n",
              "    </tr>\n",
              "    <tr>\n",
              "      <th>5</th>\n",
              "      <td>P6</td>\n",
              "      <td>0.517391</td>\n",
              "      <td>0.029026</td>\n",
              "      <td>3.098709</td>\n",
              "      <td>67.658486</td>\n",
              "      <td>64.071636</td>\n",
              "      <td>0.004374</td>\n",
              "      <td>0.076218</td>\n",
              "      <td>0.423185</td>\n",
              "      <td>4</td>\n",
              "    </tr>\n",
              "    <tr>\n",
              "      <th>6</th>\n",
              "      <td>P7</td>\n",
              "      <td>4.811771</td>\n",
              "      <td>0.149931</td>\n",
              "      <td>6.972349</td>\n",
              "      <td>95.436294</td>\n",
              "      <td>65.195180</td>\n",
              "      <td>0.004903</td>\n",
              "      <td>0.052587</td>\n",
              "      <td>0.423719</td>\n",
              "      <td>5</td>\n",
              "    </tr>\n",
              "    <tr>\n",
              "      <th>7</th>\n",
              "      <td>P8</td>\n",
              "      <td>0.196216</td>\n",
              "      <td>0.035307</td>\n",
              "      <td>0.799667</td>\n",
              "      <td>52.604792</td>\n",
              "      <td>65.468119</td>\n",
              "      <td>0.003720</td>\n",
              "      <td>0.074693</td>\n",
              "      <td>0.456545</td>\n",
              "      <td>4</td>\n",
              "    </tr>\n",
              "    <tr>\n",
              "      <th>8</th>\n",
              "      <td>P9</td>\n",
              "      <td>0.342106</td>\n",
              "      <td>0.010594</td>\n",
              "      <td>1.099542</td>\n",
              "      <td>83.181398</td>\n",
              "      <td>63.967582</td>\n",
              "      <td>0.005858</td>\n",
              "      <td>0.114835</td>\n",
              "      <td>0.424477</td>\n",
              "      <td>4</td>\n",
              "    </tr>\n",
              "    <tr>\n",
              "      <th>9</th>\n",
              "      <td>P10</td>\n",
              "      <td>0.408798</td>\n",
              "      <td>0.042047</td>\n",
              "      <td>1.999167</td>\n",
              "      <td>62.833577</td>\n",
              "      <td>65.411525</td>\n",
              "      <td>0.006067</td>\n",
              "      <td>0.095510</td>\n",
              "      <td>0.548340</td>\n",
              "      <td>5</td>\n",
              "    </tr>\n",
              "    <tr>\n",
              "      <th>10</th>\n",
              "      <td>P11</td>\n",
              "      <td>1.388692</td>\n",
              "      <td>0.072733</td>\n",
              "      <td>5.097876</td>\n",
              "      <td>67.133943</td>\n",
              "      <td>66.474274</td>\n",
              "      <td>0.007599</td>\n",
              "      <td>0.097902</td>\n",
              "      <td>0.399308</td>\n",
              "      <td>5</td>\n",
              "    </tr>\n",
              "    <tr>\n",
              "      <th>11</th>\n",
              "      <td>P12</td>\n",
              "      <td>6.382972</td>\n",
              "      <td>0.136715</td>\n",
              "      <td>12.540704</td>\n",
              "      <td>85.995250</td>\n",
              "      <td>64.769594</td>\n",
              "      <td>0.004456</td>\n",
              "      <td>0.085148</td>\n",
              "      <td>0.389516</td>\n",
              "      <td>3</td>\n",
              "    </tr>\n",
              "    <tr>\n",
              "      <th>12</th>\n",
              "      <td>P13</td>\n",
              "      <td>0.027574</td>\n",
              "      <td>0.005786</td>\n",
              "      <td>0.181749</td>\n",
              "      <td>66.809818</td>\n",
              "      <td>64.340107</td>\n",
              "      <td>0.009299</td>\n",
              "      <td>0.107363</td>\n",
              "      <td>0.395502</td>\n",
              "      <td>5</td>\n",
              "    </tr>\n",
              "  </tbody>\n",
              "</table>\n",
              "</div>"
            ],
            "text/plain": [
              "    PID       SCL    SCRamp  ...       ZCR  VoiceProb  Hirability\n",
              "0    P1  0.827077  0.094424  ...  0.120261   0.403078           4\n",
              "1    P2  5.183890  0.244549  ...  0.074726   0.457309           5\n",
              "2    P3  0.023257  0.000000  ...  0.098657   0.427495           5\n",
              "3    P4  0.211715  0.008790  ...  0.091186   0.437544           3\n",
              "4    P5  0.082192  0.011505  ...  0.076909   0.374498           4\n",
              "5    P6  0.517391  0.029026  ...  0.076218   0.423185           4\n",
              "6    P7  4.811771  0.149931  ...  0.052587   0.423719           5\n",
              "7    P8  0.196216  0.035307  ...  0.074693   0.456545           4\n",
              "8    P9  0.342106  0.010594  ...  0.114835   0.424477           4\n",
              "9   P10  0.408798  0.042047  ...  0.095510   0.548340           5\n",
              "10  P11  1.388692  0.072733  ...  0.097902   0.399308           5\n",
              "11  P12  6.382972  0.136715  ...  0.085148   0.389516           3\n",
              "12  P13  0.027574  0.005786  ...  0.107363   0.395502           5\n",
              "\n",
              "[13 rows x 10 columns]"
            ]
          },
          "metadata": {},
          "execution_count": 4
        }
      ]
    },
    {
      "cell_type": "code",
      "metadata": {
        "id": "IyCKCrz8v-gF"
      },
      "source": [
        "data_n = data.to_numpy()"
      ],
      "execution_count": 5,
      "outputs": []
    },
    {
      "cell_type": "code",
      "metadata": {
        "colab": {
          "base_uri": "https://localhost:8080/"
        },
        "id": "uJDyD5cHlZkg",
        "outputId": "a3b2af43-625b-46b7-c3e3-b9860da5beb8"
      },
      "source": [
        "#Feature Exploration\n",
        "from scipy import stats\n",
        "for i in range(1, 9):\n",
        "  #print(len(data.columns[i]), len(data.columns[-1]))\n",
        "  pearson_r, p = stats.pearsonr(data[data.columns[i]], data[data.columns[-1]])\n",
        "  print(f\"The Pearson coefficient between {data.columns[-1]} and {data.columns[i]} are: {round(pearson_r,4)}\")\n"
      ],
      "execution_count": 6,
      "outputs": [
        {
          "output_type": "stream",
          "name": "stdout",
          "text": [
            "The Pearson coefficient between Hirability and SCL are: -0.0502\n",
            "The Pearson coefficient between Hirability and SCRamp are: 0.1669\n",
            "The Pearson coefficient between Hirability and SCRfreq are: -0.2801\n",
            "The Pearson coefficient between Hirability and HRmean are: 0.0894\n",
            "The Pearson coefficient between Hirability and ACCmean are: 0.0295\n",
            "The Pearson coefficient between Hirability and Energy are: 0.4768\n",
            "The Pearson coefficient between Hirability and ZCR are: -0.0493\n",
            "The Pearson coefficient between Hirability and VoiceProb are: 0.2872\n"
          ]
        }
      ]
    },
    {
      "cell_type": "markdown",
      "metadata": {
        "id": "WcehvcANCoRx"
      },
      "source": [
        "**a.** The Correlation Co-efficient is calculated between hirability and each of the eight features. SCL, SCRfreq, ZCR are negatively co-related. SCRamp, HRmean, ACCmean, Energy and VoiceProb are positively co-related with the outcome of interest. The highest co-relation is found with Energy."
      ]
    },
    {
      "cell_type": "code",
      "metadata": {
        "id": "_KgMjEbcvAiB",
        "colab": {
          "base_uri": "https://localhost:8080/",
          "height": 54
        },
        "outputId": "98e4c822-eb8c-41af-f6af-c080fe5c7dae"
      },
      "source": [
        "#Decision tree: \n",
        "#All features: cross validation (LOSO) for tree depth selection\n",
        "\n",
        "#model\n",
        "import sklearn\n",
        "from sklearn import tree\n",
        "#clf = clf.fit(X, y)\n",
        "#clf.predict([[1, 1]])\n",
        "\n",
        "#cross validation\n",
        "from sklearn.model_selection import cross_val_score\n",
        "tree_depth = [2,3,4,5,6,7,8,9, 10, 11, 12]\n",
        "cv_error = np.zeros(len(tree_depth))\n",
        "\n",
        "k = 0\n",
        "for d in tree_depth:\n",
        "  fold_error = np.zeros(data_n.shape[0])\n",
        "  for i in range(data_n.shape[0]):\n",
        "    valid_data = data_n[i, 1:-1]\n",
        "    #print(\"valid\", valid_data)\n",
        "    valid_data_label = data_n[i, -1]\n",
        "    train_data = np.delete(data_n, i, axis = 0)\n",
        "    clf = tree.DecisionTreeRegressor(max_depth = d)\n",
        "    clf.fit(train_data[:, 1:-1], train_data[:,-1].astype('int'))\n",
        "    #print(\"valid data\",valid_data[-1])\n",
        "    predictX = clf.predict(valid_data.reshape(1, 8))\n",
        "    error = np.abs(predictX - valid_data_label)\n",
        "    #print(\"error\", error)\n",
        "    fold_error[i] = np.sum(error)\n",
        "  cv_error[k] = np.average(fold_error)\n",
        "  k+=1\n",
        "\n",
        "'''\n",
        "for d in range(len(tree_depth)):\n",
        "  clf = tree.DecisionTreeClassifier(max_depth = tree_depth[d])\n",
        "  cv_errorr = cross_val_score(clf, data_n[:,1:-1], data_n[:,-1].astype('int'), cv = 2)\n",
        "  #clf.fit(data_n[:,1:-1], data_n[:,-1].astype('int'))\n",
        "  print(cv_error)\n",
        "'''"
      ],
      "execution_count": 7,
      "outputs": [
        {
          "output_type": "execute_result",
          "data": {
            "application/vnd.google.colaboratory.intrinsic+json": {
              "type": "string"
            },
            "text/plain": [
              "\"\\nfor d in range(len(tree_depth)):\\n  clf = tree.DecisionTreeClassifier(max_depth = tree_depth[d])\\n  cv_errorr = cross_val_score(clf, data_n[:,1:-1], data_n[:,-1].astype('int'), cv = 2)\\n  #clf.fit(data_n[:,1:-1], data_n[:,-1].astype('int'))\\n  print(cv_error)\\n\""
            ]
          },
          "metadata": {},
          "execution_count": 7
        }
      ]
    },
    {
      "cell_type": "code",
      "metadata": {
        "colab": {
          "base_uri": "https://localhost:8080/",
          "height": 284
        },
        "id": "jdaZwNClp4yO",
        "outputId": "a18d9b24-5730-472a-de15-0c89b4876682"
      },
      "source": [
        "import matplotlib.pyplot as plt\n",
        "plt.plot(tree_depth, cv_error)"
      ],
      "execution_count": 8,
      "outputs": [
        {
          "output_type": "execute_result",
          "data": {
            "text/plain": [
              "[<matplotlib.lines.Line2D at 0x7f70e09f0050>]"
            ]
          },
          "metadata": {},
          "execution_count": 8
        },
        {
          "output_type": "display_data",
          "data": {
            "image/png": "[encoded data removed]",
            "text/plain": [
              "<Figure size 432x288 with 1 Axes>"
            ]
          },
          "metadata": {
            "needs_background": "light"
          }
        }
      ]
    },
    {
      "cell_type": "code",
      "metadata": {
        "colab": {
          "base_uri": "https://localhost:8080/"
        },
        "id": "qFIzT_bMD3J7",
        "outputId": "eb1780e1-7ffd-4149-9447-27642504f113"
      },
      "source": [
        "print(f\"The minimum error for a decision tree with all features is found at a tree depth of {tree_depth[np.argmin(cv_error)]}. \")"
      ],
      "execution_count": 9,
      "outputs": [
        {
          "output_type": "stream",
          "name": "stdout",
          "text": [
            "The minimum error for a decision tree with all features is found at a tree depth of 7. \n"
          ]
        }
      ]
    },
    {
      "cell_type": "code",
      "metadata": {
        "id": "mhn_C8WIO6nh"
      },
      "source": [
        "#feature combinations: 1-SCL, 2-SCRamp, 3-SCRfreq, 4-HRmean, 5:ACCmean, 6:Energy, 7:ZCR, 8:VoiceProb  \n",
        "#feature_combination1: SCRamp, HRmean, ACCmean, Energy, VoiceProb\n",
        "FeatureData1 = np.vstack((data_n[:,2], data_n[:,4], data_n[:,5], data_n[:,6], data_n[:,8], data_n[:,9])).T\n",
        "cv_error = np.zeros(len(tree_depth))\n",
        "k = 0\n",
        "for d in tree_depth:\n",
        "  fold_error = np.zeros(data_n.shape[0])\n",
        "  for i in range(data_n.shape[0]):\n",
        "    valid_data = FeatureData1[i, 0:-1]\n",
        "    #print(\"valid\", valid_data)\n",
        "    valid_data_label = FeatureData1[i, -1]\n",
        "    train_data = np.delete(FeatureData1, i, axis = 0)\n",
        "    clf1 = tree.DecisionTreeRegressor(max_depth = d)\n",
        "    clf1.fit(train_data[:, 0:-1], train_data[:,-1].astype('int'))\n",
        "    #print(\"valid data\",valid_data[-1])\n",
        "    predictX = clf1.predict(valid_data.reshape(1, 5))\n",
        "    error = np.abs(predictX - valid_data_label)\n",
        "    #print(\"error\", error)\n",
        "    fold_error[i] = np.sum(error)\n",
        "  cv_error[k] = np.average(fold_error)\n",
        "  k+=1"
      ],
      "execution_count": 10,
      "outputs": []
    },
    {
      "cell_type": "code",
      "metadata": {
        "colab": {
          "base_uri": "https://localhost:8080/",
          "height": 284
        },
        "id": "Ge8fWh_oEesm",
        "outputId": "e67b9157-961c-4229-f0fb-bc76c3857598"
      },
      "source": [
        "import matplotlib.pyplot as plt\n",
        "plt.plot(tree_depth, cv_error)"
      ],
      "execution_count": 11,
      "outputs": [
        {
          "output_type": "execute_result",
          "data": {
            "text/plain": [
              "[<matplotlib.lines.Line2D at 0x7f70e047d950>]"
            ]
          },
          "metadata": {},
          "execution_count": 11
        },
        {
          "output_type": "display_data",
          "data": {
            "image/png": "[encoded data removed]",
            "text/plain": [
              "<Figure size 432x288 with 1 Axes>"
            ]
          },
          "metadata": {
            "needs_background": "light"
          }
        }
      ]
    },
    {
      "cell_type": "code",
      "metadata": {
        "colab": {
          "base_uri": "https://localhost:8080/"
        },
        "id": "GC-3s1EoEZU7",
        "outputId": "7e9c7c90-7cc9-4d7f-bb4d-d06bdb3b7c76"
      },
      "source": [
        "print(f\"The minimum error for a decision tree with features: SCRamp, HRmean, ACCmean, Energy, VoiceProb (features that are positively co-related with the outcome of interest) is found at a tree depth of {tree_depth[np.argmin(cv_error)]}. \")"
      ],
      "execution_count": 12,
      "outputs": [
        {
          "output_type": "stream",
          "name": "stdout",
          "text": [
            "The minimum error for a decision tree with features: SCRamp, HRmean, ACCmean, Energy, VoiceProb (features that are positively co-related with the outcome of interest) is found at a tree depth of 5. \n"
          ]
        }
      ]
    },
    {
      "cell_type": "code",
      "metadata": {
        "id": "5qovKOH2Q5SN"
      },
      "source": [
        "#feature_combination2: Energy, VoiceProb,  SCRamp\n",
        "FeatureData2 = np.vstack((data_n[:,6], data_n[:,2],data_n[:,8], data_n[:,9])).T\n",
        "cv_error = np.zeros(len(tree_depth))\n",
        "\n",
        "k = 0\n",
        "for d in tree_depth:\n",
        "  fold_error = np.zeros(data_n.shape[0])\n",
        "  for i in range(data_n.shape[0]):\n",
        "    valid_data = FeatureData2[i, 0:-1]\n",
        "    #print(\"valid\", valid_data)\n",
        "    valid_data_label = FeatureData2[i, -1]\n",
        "    train_data = np.delete(FeatureData2, i, axis = 0)\n",
        "    clf2 = tree.DecisionTreeRegressor(max_depth = d)\n",
        "    clf2.fit(train_data[:, 0:-1], train_data[:,-1].astype('int'))\n",
        "    #print(\"valid data\",valid_data[-1])\n",
        "    predictX = clf2.predict(valid_data.reshape(1, 3))\n",
        "    error = np.abs(predictX - valid_data_label)\n",
        "    #print(\"error\", error)\n",
        "    fold_error[i] = np.sum(error)\n",
        "  cv_error[k] = np.average(fold_error)\n",
        "  k+=1"
      ],
      "execution_count": 13,
      "outputs": []
    },
    {
      "cell_type": "code",
      "metadata": {
        "colab": {
          "base_uri": "https://localhost:8080/",
          "height": 284
        },
        "id": "dYfkVLl9E3JJ",
        "outputId": "e5946902-8538-42c7-8c22-0c6c75d979cc"
      },
      "source": [
        "import matplotlib.pyplot as plt\n",
        "plt.plot(tree_depth, cv_error)"
      ],
      "execution_count": 14,
      "outputs": [
        {
          "output_type": "execute_result",
          "data": {
            "text/plain": [
              "[<matplotlib.lines.Line2D at 0x7f70e03ff1d0>]"
            ]
          },
          "metadata": {},
          "execution_count": 14
        },
        {
          "output_type": "display_data",
          "data": {
            "image/png": "[encoded data removed]",
            "text/plain": [
              "<Figure size 432x288 with 1 Axes>"
            ]
          },
          "metadata": {
            "needs_background": "light"
          }
        }
      ]
    },
    {
      "cell_type": "code",
      "metadata": {
        "colab": {
          "base_uri": "https://localhost:8080/"
        },
        "id": "0tKXfe0qE-lf",
        "outputId": "3e342f7f-80f6-4226-cfe9-23bed87248e0"
      },
      "source": [
        "print(f\"The minimum error for a decision tree with features:Energy, VoiceProb, SCRamp  is found at a tree depth of {tree_depth[np.argmin(cv_error)]}. \")"
      ],
      "execution_count": 15,
      "outputs": [
        {
          "output_type": "stream",
          "name": "stdout",
          "text": [
            "The minimum error for a decision tree with features:Energy, VoiceProb, SCRamp  is found at a tree depth of 6. \n"
          ]
        }
      ]
    },
    {
      "cell_type": "code",
      "metadata": {
        "id": "76K795ZoTESc"
      },
      "source": [
        "#feaute_combination3: Energy, SCL, SCRfreq, ZCR\n",
        "FeatureData3 = np.vstack((data_n[:,6], data_n[:,1],data_n[:,2],data_n[:,7], data_n[:,9])).T\n",
        "cv_error = np.zeros(len(tree_depth))\n",
        "\n",
        "k = 0\n",
        "for d in tree_depth:\n",
        "  fold_error = np.zeros(data_n.shape[0])\n",
        "  for i in range(data_n.shape[0]):\n",
        "    valid_data = FeatureData3[i, 0:-1]\n",
        "    #print(\"valid\", valid_data)\n",
        "    valid_data_label = FeatureData3[i, -1]\n",
        "    train_data = np.delete(FeatureData3, i, axis = 0)\n",
        "    clf3 = tree.DecisionTreeRegressor(max_depth = d)\n",
        "    clf3.fit(train_data[:, 0:-1], train_data[:,-1].astype('int'))\n",
        "    #print(\"valid data\",valid_data[-1])\n",
        "    predictX = clf3.predict(valid_data.reshape(1, 4))\n",
        "    error = np.abs(predictX - valid_data_label)\n",
        "    #print(\"error\", error)\n",
        "    fold_error[i] = np.sum(error)\n",
        "  cv_error[k] = np.average(fold_error)\n",
        "  k+=1"
      ],
      "execution_count": 16,
      "outputs": []
    },
    {
      "cell_type": "code",
      "metadata": {
        "colab": {
          "base_uri": "https://localhost:8080/",
          "height": 286
        },
        "id": "HU7sdBtNE5L9",
        "outputId": "7a3880c5-c166-4a0d-d31a-698d18eed457"
      },
      "source": [
        "import matplotlib.pyplot as plt\n",
        "plt.plot(tree_depth, cv_error)"
      ],
      "execution_count": 17,
      "outputs": [
        {
          "output_type": "execute_result",
          "data": {
            "text/plain": [
              "[<matplotlib.lines.Line2D at 0x7f70e03e2410>]"
            ]
          },
          "metadata": {},
          "execution_count": 17
        },
        {
          "output_type": "display_data",
          "data": {
            "image/png": "[encoded data removed]",
            "text/plain": [
              "<Figure size 432x288 with 1 Axes>"
            ]
          },
          "metadata": {
            "needs_background": "light"
          }
        }
      ]
    },
    {
      "cell_type": "code",
      "metadata": {
        "colab": {
          "base_uri": "https://localhost:8080/"
        },
        "id": "E4JBsZONFI7s",
        "outputId": "40f60e35-a292-4a09-98f6-5cb644218735"
      },
      "source": [
        "print(f\"The minimum error for a decision tree with features:Energy, SCL, SCRfreq, ZCR is found at a tree depth of {tree_depth[np.argmin(cv_error)]}. \")"
      ],
      "execution_count": 18,
      "outputs": [
        {
          "output_type": "stream",
          "name": "stdout",
          "text": [
            "The minimum error for a decision tree with features:Energy, SCL, SCRfreq, ZCR is found at a tree depth of 9. \n"
          ]
        }
      ]
    },
    {
      "cell_type": "markdown",
      "metadata": {
        "id": "jCgUrvTpNNvB"
      },
      "source": [
        "**b.** I have experimented with various depth of decision trees and different features with leave one sample out cross-va;idation. Following is the result.\n",
        "\n",
        "1. All Features: The minimum absolute error is found at tree depth of 7.\n",
        "\n",
        "2. Features that are positively co-related- SCRamp, HRmean, ACCmean, Energy, VoiceProb: The minimum error is found at a tree depth of 5.\n",
        "\n",
        "3. Feature Set- Energy, VoiceProb, SCRamp: The minimum error is found at a tree depth of 6. \n",
        "\n",
        "4. Feature Set- Energy, SCL, SCRfreq, ZCR: The minimum error is found at a tree depth of 9. "
      ]
    },
    {
      "cell_type": "code",
      "metadata": {
        "colab": {
          "base_uri": "https://localhost:8080/",
          "height": 598
        },
        "id": "1ApIfm4SQLBq",
        "outputId": "859a01be-a04c-4b7a-8211-ce4bb9f542f6"
      },
      "source": [
        "features = np.array(data.columns[1:-1])\n",
        "feature_set3 = ['Energy', 'SCL', 'SCRfreq', 'ZCR']\n",
        "feature_set2 = [\"Energy\", \"VoiceProb\", \"SCRamp\"]\n",
        "clf3 = tree.DecisionTreeClassifier(max_depth = 9)\n",
        "clf3.fit(FeatureData3[:, 0:-1], FeatureData3[:,-1].astype('int'))\n",
        "#print(features)\n",
        "targets = ['1','2','3','4','5']\n",
        "import graphviz\n",
        "# DOT data\n",
        "dot_data = tree.export_graphviz(clf3, out_file=None, \n",
        "                                feature_names=feature_set3,  \n",
        "                                class_names=targets,\n",
        "                                filled=True)\n",
        "\n",
        "# Draw graph\n",
        "graph = graphviz.Source(dot_data, format=\"png\") \n",
        "graph"
      ],
      "execution_count": 19,
      "outputs": [
        {
          "output_type": "execute_result",
          "data": {
            "text/plain": [
              "<graphviz.files.Source at 0x7f70e03a6a50>"
            ],
            "image/svg+xml": "<?xml version=\"1.0\" encoding=\"UTF-8\" standalone=\"no\"?>\n<!DOCTYPE svg PUBLIC \"-//W3C//DTD SVG 1.1//EN\"\n \"http://www.w3.org/Graphics/SVG/1.1/DTD/svg11.dtd\">\n<!-- Generated by graphviz version 2.40.1 (20161225.0304)\n -->\n<!-- Title: Tree Pages: 1 -->\n<svg width=\"522pt\" height=\"433pt\"\n viewBox=\"0.00 0.00 522.00 433.00\" xmlns=\"http://www.w3.org/2000/svg\" xmlns:xlink=\"http://www.w3.org/1999/xlink\">\n<g id=\"graph0\" class=\"graph\" transform=\"scale(1 1) rotate(0) translate(4 429)\">\n<title>Tree</title>\n<polygon fill=\"#ffffff\" stroke=\"transparent\" points=\"-4,4 -4,-429 518,-429 518,4 -4,4\"/>\n<!-- 0 -->\n<g id=\"node1\" class=\"node\">\n<title>0</title>\n<polygon fill=\"#efe6fc\" stroke=\"#000000\" points=\"318.5,-425 194.5,-425 194.5,-342 318.5,-342 318.5,-425\"/>\n<text text-anchor=\"middle\" x=\"256.5\" y=\"-409.8\" font-family=\"Helvetica,sans-Serif\" font-size=\"14.00\" fill=\"#000000\">Energy &lt;= 0.006</text>\n<text text-anchor=\"middle\" x=\"256.5\" y=\"-394.8\" font-family=\"Helvetica,sans-Serif\" font-size=\"14.00\" fill=\"#000000\">gini = 0.615</text>\n<text text-anchor=\"middle\" x=\"256.5\" y=\"-379.8\" font-family=\"Helvetica,sans-Serif\" font-size=\"14.00\" fill=\"#000000\">samples = 13</text>\n<text text-anchor=\"middle\" x=\"256.5\" y=\"-364.8\" font-family=\"Helvetica,sans-Serif\" font-size=\"14.00\" fill=\"#000000\">value = [2, 5, 6]</text>\n<text text-anchor=\"middle\" x=\"256.5\" y=\"-349.8\" font-family=\"Helvetica,sans-Serif\" font-size=\"14.00\" fill=\"#000000\">class = 3</text>\n</g>\n<!-- 1 -->\n<g id=\"node2\" class=\"node\">\n<title>1</title>\n<polygon fill=\"#9cf2c0\" stroke=\"#000000\" points=\"248,-306 133,-306 133,-223 248,-223 248,-306\"/>\n<text text-anchor=\"middle\" x=\"190.5\" y=\"-290.8\" font-family=\"Helvetica,sans-Serif\" font-size=\"14.00\" fill=\"#000000\">SCL &lt;= 2.819</text>\n<text text-anchor=\"middle\" x=\"190.5\" y=\"-275.8\" font-family=\"Helvetica,sans-Serif\" font-size=\"14.00\" fill=\"#000000\">gini = 0.531</text>\n<text text-anchor=\"middle\" x=\"190.5\" y=\"-260.8\" font-family=\"Helvetica,sans-Serif\" font-size=\"14.00\" fill=\"#000000\">samples = 8</text>\n<text text-anchor=\"middle\" x=\"190.5\" y=\"-245.8\" font-family=\"Helvetica,sans-Serif\" font-size=\"14.00\" fill=\"#000000\">value = [1, 5, 2]</text>\n<text text-anchor=\"middle\" x=\"190.5\" y=\"-230.8\" font-family=\"Helvetica,sans-Serif\" font-size=\"14.00\" fill=\"#000000\">class = 2</text>\n</g>\n<!-- 0&#45;&gt;1 -->\n<g id=\"edge1\" class=\"edge\">\n<title>0&#45;&gt;1</title>\n<path fill=\"none\" stroke=\"#000000\" d=\"M233.4164,-341.8796C228.6211,-333.2335 223.5178,-324.0322 218.5662,-315.1042\"/>\n<polygon fill=\"#000000\" stroke=\"#000000\" points=\"221.5931,-313.3455 213.6821,-306.2981 215.4716,-316.7407 221.5931,-313.3455\"/>\n<text text-anchor=\"middle\" x=\"206.7969\" y=\"-326.6313\" font-family=\"Helvetica,sans-Serif\" font-size=\"14.00\" fill=\"#000000\">True</text>\n</g>\n<!-- 6 -->\n<g id=\"node7\" class=\"node\">\n<title>6</title>\n<polygon fill=\"#a06aec\" stroke=\"#000000\" points=\"381,-306 266,-306 266,-223 381,-223 381,-306\"/>\n<text text-anchor=\"middle\" x=\"323.5\" y=\"-290.8\" font-family=\"Helvetica,sans-Serif\" font-size=\"14.00\" fill=\"#000000\">ZCR &lt;= 0.093</text>\n<text text-anchor=\"middle\" x=\"323.5\" y=\"-275.8\" font-family=\"Helvetica,sans-Serif\" font-size=\"14.00\" fill=\"#000000\">gini = 0.32</text>\n<text text-anchor=\"middle\" x=\"323.5\" y=\"-260.8\" font-family=\"Helvetica,sans-Serif\" font-size=\"14.00\" fill=\"#000000\">samples = 5</text>\n<text text-anchor=\"middle\" x=\"323.5\" y=\"-245.8\" font-family=\"Helvetica,sans-Serif\" font-size=\"14.00\" fill=\"#000000\">value = [1, 0, 4]</text>\n<text text-anchor=\"middle\" x=\"323.5\" y=\"-230.8\" font-family=\"Helvetica,sans-Serif\" font-size=\"14.00\" fill=\"#000000\">class = 3</text>\n</g>\n<!-- 0&#45;&gt;6 -->\n<g id=\"edge6\" class=\"edge\">\n<title>0&#45;&gt;6</title>\n<path fill=\"none\" stroke=\"#000000\" d=\"M279.9333,-341.8796C284.8013,-333.2335 289.9819,-324.0322 295.0086,-315.1042\"/>\n<polygon fill=\"#000000\" stroke=\"#000000\" points=\"298.1103,-316.729 299.9666,-306.2981 292.0107,-313.2947 298.1103,-316.729\"/>\n<text text-anchor=\"middle\" x=\"306.6978\" y=\"-326.6749\" font-family=\"Helvetica,sans-Serif\" font-size=\"14.00\" fill=\"#000000\">False</text>\n</g>\n<!-- 2 -->\n<g id=\"node3\" class=\"node\">\n<title>2</title>\n<polygon fill=\"#39e581\" stroke=\"#000000\" points=\"115,-179.5 0,-179.5 0,-111.5 115,-111.5 115,-179.5\"/>\n<text text-anchor=\"middle\" x=\"57.5\" y=\"-164.3\" font-family=\"Helvetica,sans-Serif\" font-size=\"14.00\" fill=\"#000000\">gini = 0.0</text>\n<text text-anchor=\"middle\" x=\"57.5\" y=\"-149.3\" font-family=\"Helvetica,sans-Serif\" font-size=\"14.00\" fill=\"#000000\">samples = 5</text>\n<text text-anchor=\"middle\" x=\"57.5\" y=\"-134.3\" font-family=\"Helvetica,sans-Serif\" font-size=\"14.00\" fill=\"#000000\">value = [0, 5, 0]</text>\n<text text-anchor=\"middle\" x=\"57.5\" y=\"-119.3\" font-family=\"Helvetica,sans-Serif\" font-size=\"14.00\" fill=\"#000000\">class = 2</text>\n</g>\n<!-- 1&#45;&gt;2 -->\n<g id=\"edge2\" class=\"edge\">\n<title>1&#45;&gt;2</title>\n<path fill=\"none\" stroke=\"#000000\" d=\"M143.9831,-222.8796C130.833,-211.1138 116.5337,-198.3197 103.4191,-186.5855\"/>\n<polygon fill=\"#000000\" stroke=\"#000000\" points=\"105.6382,-183.8746 95.852,-179.8149 100.9706,-189.0913 105.6382,-183.8746\"/>\n</g>\n<!-- 3 -->\n<g id=\"node4\" class=\"node\">\n<title>3</title>\n<polygon fill=\"#c09cf2\" stroke=\"#000000\" points=\"248,-187 133,-187 133,-104 248,-104 248,-187\"/>\n<text text-anchor=\"middle\" x=\"190.5\" y=\"-171.8\" font-family=\"Helvetica,sans-Serif\" font-size=\"14.00\" fill=\"#000000\">SCL &lt;= 5.783</text>\n<text text-anchor=\"middle\" x=\"190.5\" y=\"-156.8\" font-family=\"Helvetica,sans-Serif\" font-size=\"14.00\" fill=\"#000000\">gini = 0.444</text>\n<text text-anchor=\"middle\" x=\"190.5\" y=\"-141.8\" font-family=\"Helvetica,sans-Serif\" font-size=\"14.00\" fill=\"#000000\">samples = 3</text>\n<text text-anchor=\"middle\" x=\"190.5\" y=\"-126.8\" font-family=\"Helvetica,sans-Serif\" font-size=\"14.00\" fill=\"#000000\">value = [1, 0, 2]</text>\n<text text-anchor=\"middle\" x=\"190.5\" y=\"-111.8\" font-family=\"Helvetica,sans-Serif\" font-size=\"14.00\" fill=\"#000000\">class = 3</text>\n</g>\n<!-- 1&#45;&gt;3 -->\n<g id=\"edge3\" class=\"edge\">\n<title>1&#45;&gt;3</title>\n<path fill=\"none\" stroke=\"#000000\" d=\"M190.5,-222.8796C190.5,-214.6838 190.5,-205.9891 190.5,-197.5013\"/>\n<polygon fill=\"#000000\" stroke=\"#000000\" points=\"194.0001,-197.298 190.5,-187.2981 187.0001,-197.2981 194.0001,-197.298\"/>\n</g>\n<!-- 4 -->\n<g id=\"node5\" class=\"node\">\n<title>4</title>\n<polygon fill=\"#8139e5\" stroke=\"#000000\" points=\"181,-68 66,-68 66,0 181,0 181,-68\"/>\n<text text-anchor=\"middle\" x=\"123.5\" y=\"-52.8\" font-family=\"Helvetica,sans-Serif\" font-size=\"14.00\" fill=\"#000000\">gini = 0.0</text>\n<text text-anchor=\"middle\" x=\"123.5\" y=\"-37.8\" font-family=\"Helvetica,sans-Serif\" font-size=\"14.00\" fill=\"#000000\">samples = 2</text>\n<text text-anchor=\"middle\" x=\"123.5\" y=\"-22.8\" font-family=\"Helvetica,sans-Serif\" font-size=\"14.00\" fill=\"#000000\">value = [0, 0, 2]</text>\n<text text-anchor=\"middle\" x=\"123.5\" y=\"-7.8\" font-family=\"Helvetica,sans-Serif\" font-size=\"14.00\" fill=\"#000000\">class = 3</text>\n</g>\n<!-- 3&#45;&gt;4 -->\n<g id=\"edge4\" class=\"edge\">\n<title>3&#45;&gt;4</title>\n<path fill=\"none\" stroke=\"#000000\" d=\"M165.5517,-103.9815C160.2499,-95.1585 154.6419,-85.8258 149.3089,-76.9506\"/>\n<polygon fill=\"#000000\" stroke=\"#000000\" points=\"152.2396,-75.0325 144.0889,-68.2637 146.2395,-78.638 152.2396,-75.0325\"/>\n</g>\n<!-- 5 -->\n<g id=\"node6\" class=\"node\">\n<title>5</title>\n<polygon fill=\"#e58139\" stroke=\"#000000\" points=\"314,-68 199,-68 199,0 314,0 314,-68\"/>\n<text text-anchor=\"middle\" x=\"256.5\" y=\"-52.8\" font-family=\"Helvetica,sans-Serif\" font-size=\"14.00\" fill=\"#000000\">gini = 0.0</text>\n<text text-anchor=\"middle\" x=\"256.5\" y=\"-37.8\" font-family=\"Helvetica,sans-Serif\" font-size=\"14.00\" fill=\"#000000\">samples = 1</text>\n<text text-anchor=\"middle\" x=\"256.5\" y=\"-22.8\" font-family=\"Helvetica,sans-Serif\" font-size=\"14.00\" fill=\"#000000\">value = [1, 0, 0]</text>\n<text text-anchor=\"middle\" x=\"256.5\" y=\"-7.8\" font-family=\"Helvetica,sans-Serif\" font-size=\"14.00\" fill=\"#000000\">class = 1</text>\n</g>\n<!-- 3&#45;&gt;5 -->\n<g id=\"edge5\" class=\"edge\">\n<title>3&#45;&gt;5</title>\n<path fill=\"none\" stroke=\"#000000\" d=\"M215.076,-103.9815C220.2986,-95.1585 225.8229,-85.8258 231.0763,-76.9506\"/>\n<polygon fill=\"#000000\" stroke=\"#000000\" points=\"234.1364,-78.652 236.2184,-68.2637 228.1126,-75.0863 234.1364,-78.652\"/>\n</g>\n<!-- 7 -->\n<g id=\"node8\" class=\"node\">\n<title>7</title>\n<polygon fill=\"#e58139\" stroke=\"#000000\" points=\"381,-179.5 266,-179.5 266,-111.5 381,-111.5 381,-179.5\"/>\n<text text-anchor=\"middle\" x=\"323.5\" y=\"-164.3\" font-family=\"Helvetica,sans-Serif\" font-size=\"14.00\" fill=\"#000000\">gini = 0.0</text>\n<text text-anchor=\"middle\" x=\"323.5\" y=\"-149.3\" font-family=\"Helvetica,sans-Serif\" font-size=\"14.00\" fill=\"#000000\">samples = 1</text>\n<text text-anchor=\"middle\" x=\"323.5\" y=\"-134.3\" font-family=\"Helvetica,sans-Serif\" font-size=\"14.00\" fill=\"#000000\">value = [1, 0, 0]</text>\n<text text-anchor=\"middle\" x=\"323.5\" y=\"-119.3\" font-family=\"Helvetica,sans-Serif\" font-size=\"14.00\" fill=\"#000000\">class = 1</text>\n</g>\n<!-- 6&#45;&gt;7 -->\n<g id=\"edge7\" class=\"edge\">\n<title>6&#45;&gt;7</title>\n<path fill=\"none\" stroke=\"#000000\" d=\"M323.5,-222.8796C323.5,-212.2134 323.5,-200.7021 323.5,-189.9015\"/>\n<polygon fill=\"#000000\" stroke=\"#000000\" points=\"327.0001,-189.8149 323.5,-179.8149 320.0001,-189.815 327.0001,-189.8149\"/>\n</g>\n<!-- 8 -->\n<g id=\"node9\" class=\"node\">\n<title>8</title>\n<polygon fill=\"#8139e5\" stroke=\"#000000\" points=\"514,-179.5 399,-179.5 399,-111.5 514,-111.5 514,-179.5\"/>\n<text text-anchor=\"middle\" x=\"456.5\" y=\"-164.3\" font-family=\"Helvetica,sans-Serif\" font-size=\"14.00\" fill=\"#000000\">gini = 0.0</text>\n<text text-anchor=\"middle\" x=\"456.5\" y=\"-149.3\" font-family=\"Helvetica,sans-Serif\" font-size=\"14.00\" fill=\"#000000\">samples = 4</text>\n<text text-anchor=\"middle\" x=\"456.5\" y=\"-134.3\" font-family=\"Helvetica,sans-Serif\" font-size=\"14.00\" fill=\"#000000\">value = [0, 0, 4]</text>\n<text text-anchor=\"middle\" x=\"456.5\" y=\"-119.3\" font-family=\"Helvetica,sans-Serif\" font-size=\"14.00\" fill=\"#000000\">class = 3</text>\n</g>\n<!-- 6&#45;&gt;8 -->\n<g id=\"edge8\" class=\"edge\">\n<title>6&#45;&gt;8</title>\n<path fill=\"none\" stroke=\"#000000\" d=\"M370.0169,-222.8796C383.167,-211.1138 397.4663,-198.3197 410.5809,-186.5855\"/>\n<polygon fill=\"#000000\" stroke=\"#000000\" points=\"413.0294,-189.0913 418.148,-179.8149 408.3618,-183.8746 413.0294,-189.0913\"/>\n</g>\n</g>\n</svg>\n"
          },
          "metadata": {},
          "execution_count": 19
        }
      ]
    },
    {
      "cell_type": "code",
      "metadata": {
        "colab": {
          "base_uri": "https://localhost:8080/",
          "height": 287
        },
        "id": "HCncoPgfS1Hb",
        "outputId": "b18bf53f-0e44-4afe-cd0f-4d6027f37a25"
      },
      "source": [
        "graph.render(\"decision_tree_graphivz\")\n",
        "import matplotlib.image as img\n",
        "# reading png image file\n",
        "im = img.imread('decision_tree_graphivz.png')\n",
        "  \n",
        "# show image\n",
        "plt.imshow(im)"
      ],
      "execution_count": 20,
      "outputs": [
        {
          "output_type": "execute_result",
          "data": {
            "text/plain": [
              "<matplotlib.image.AxesImage at 0x7f70e035af10>"
            ]
          },
          "metadata": {},
          "execution_count": 20
        },
        {
          "output_type": "display_data",
          "data": {
            "image/png": "[encoded data removed]",
            "text/plain": [
              "<Figure size 432x288 with 1 Axes>"
            ]
          },
          "metadata": {
            "needs_background": "light"
          }
        }
      ]
    },
    {
      "cell_type": "code",
      "metadata": {
        "id": "kNx-SLKrWpyg"
      },
      "source": [
        "#tree.plot_tree(clf3)"
      ],
      "execution_count": null,
      "outputs": []
    },
    {
      "cell_type": "markdown",
      "metadata": {
        "id": "1n_1thWVSiS5"
      },
      "source": [
        "**c.** The best decision tree is found for these features 'Energy', 'SCL', 'SCRfreq', 'ZCR'. The tree has been plotted above. The data is noisy and the model takes samples randomly, the results are not the same everytime."
      ]
    },
    {
      "cell_type": "code",
      "metadata": {
        "id": "bxPwZ6f-nzBP"
      },
      "source": [
        "#Random Forest\n",
        "from sklearn.ensemble import RandomForestRegressor\n",
        "num_trees_forest= [3,4,5,6,7,8,9,10,15,20]\n",
        "forest_depth = [3,4,5,6,7,8,9,10,11,12] \n",
        "from itertools import product\n",
        "\n",
        "pairs = list(product(num_trees_forest, forest_depth))\n",
        "cv_error_rf = np.zeros(len(pairs))\n",
        "k= 0\n",
        "for pair in pairs:\n",
        "  fold_error = np.zeros(data_n.shape[0])\n",
        "\n",
        "  for i in range(data_n.shape[0]):\n",
        "    valid_data = data_n[i, 1:-1]\n",
        "    #print(\"valid\", valid_data)\n",
        "    valid_data_label = data_n[i, -1]\n",
        "    train_data = np.delete(data_n, i, axis = 0)\n",
        "    # creating a RF classifier\n",
        "    clf = RandomForestRegressor(n_estimators = pair[0], max_depth = pair[1]) \n",
        "  \n",
        "    # Training the model on the training dataset\n",
        "    # fit function is used to train the model using the training sets as parameters\n",
        "    clf.fit(train_data[:, 1:-1], train_data[:,-1].astype('int'))\n",
        "    #print(\"valid data\",valid_data[-1])\n",
        "    predictX = clf.predict(valid_data.reshape(1, 8))\n",
        "    error = np.abs(predictX - valid_data_label)\n",
        "    #print(\"error\", error)\n",
        "    fold_error[i] = np.sum(error)\n",
        "  cv_error_rf[k] = np.average(fold_error)\n",
        "  k+=1"
      ],
      "execution_count": 22,
      "outputs": []
    },
    {
      "cell_type": "code",
      "metadata": {
        "colab": {
          "base_uri": "https://localhost:8080/",
          "height": 301
        },
        "id": "0NyGNTS0xAcV",
        "outputId": "a84a7f14-9608-40ea-b9f2-1235bd188f08"
      },
      "source": [
        "plt.plot(cv_error_rf)\n",
        "print(np.min(cv_error_rf))\n",
        "print(\"num_of_trees = \", pairs[np.argmin(cv_error_rf)][0],\", tree_depth_of_the_forest\", pairs[np.argmin(cv_error_rf)][1])"
      ],
      "execution_count": 23,
      "outputs": [
        {
          "output_type": "stream",
          "name": "stdout",
          "text": [
            "0.5576923076923077\n",
            "num_of_trees =  4 , tree_depth_of_the_forest 5\n"
          ]
        },
        {
          "output_type": "display_data",
          "data": {
            "image/png": "[encoded data removed]",
            "text/plain": [
              "<Figure size 432x288 with 1 Axes>"
            ]
          },
          "metadata": {
            "needs_background": "light"
          }
        }
      ]
    },
    {
      "cell_type": "markdown",
      "metadata": {
        "id": "pOtYjMdJV3e5"
      },
      "source": [
        "**d.** I have experimented with various number of trees (3,4,5,6,7,8,9,10,15,20) and different maximum depth (3,4,5,6,7,8,9,10,11,12). The minimum error was found with 3 trees and tree depth of 3. Random forest performs better than decision trees as the minimum error for random forest is 0.54, whereas decision tree has 0.58 as the minimum error.\n"
      ]
    },
    {
      "cell_type": "code",
      "metadata": {
        "id": "_o2oB1F37TDD"
      },
      "source": [
        "from sklearn.ensemble import AdaBoostRegressor\n",
        "#from sklearn.models import DecisionTreeClassifier\n",
        "num_estimators_adaboost = [2,3,4,5,6,7,8,9,10,11,12,13,14,15,20,25]\n",
        "cv_error_abc = np.zeros(len(num_estimators_adaboost))\n",
        "k = 0\n",
        "for n in num_estimators_adaboost:\n",
        "  fold_error = np.zeros(data_n.shape[0])\n",
        "\n",
        "  for i in range(data_n.shape[0]):\n",
        "    valid_data = data_n[i, 1:-1]\n",
        "    #print(\"valid\", valid_data)\n",
        "    valid_data_label = data_n[i, -1]\n",
        "    train_data = np.delete(data_n, i, axis = 0)\n",
        "    # Create adaboost classifer object\n",
        "    abc = AdaBoostRegressor(n_estimators= n)\n",
        "    # Train Adaboost Classifer\n",
        "    model = abc.fit(train_data[:, 1:-1], train_data[:,-1].astype('int'))\n",
        "\n",
        "    #Predict the response for test dataset\n",
        "    predictX = model.predict(valid_data.reshape(1, 8))\n",
        "    error = np.abs(predictX - valid_data_label)\n",
        "    #print(\"error\", error)\n",
        "    fold_error[i] = np.sum(error)\n",
        "  cv_error_abc[k] = np.average(fold_error)\n",
        "  k+=1"
      ],
      "execution_count": 24,
      "outputs": []
    },
    {
      "cell_type": "code",
      "metadata": {
        "colab": {
          "base_uri": "https://localhost:8080/",
          "height": 284
        },
        "id": "kzOtpyaZ-fXc",
        "outputId": "ae2d25b8-bc87-47c0-f0fc-48ad5a15a3cf"
      },
      "source": [
        "plt.plot(num_estimators_adaboost, cv_error_abc)"
      ],
      "execution_count": 25,
      "outputs": [
        {
          "output_type": "execute_result",
          "data": {
            "text/plain": [
              "[<matplotlib.lines.Line2D at 0x7f70dea3b090>]"
            ]
          },
          "metadata": {},
          "execution_count": 25
        },
        {
          "output_type": "display_data",
          "data": {
            "image/png": "[encoded data removed]",
            "text/plain": [
              "<Figure size 432x288 with 1 Axes>"
            ]
          },
          "metadata": {
            "needs_background": "light"
          }
        }
      ]
    },
    {
      "cell_type": "markdown",
      "metadata": {
        "id": "YJHSWtWVXORS"
      },
      "source": [
        "**e.** I have selected decision tree as the base model and experimented with various number of estimators for the AdaBoost Regresser. The Adaboost Regresser performs much better than decision trees and it slighly outperforms Random Forest."
      ]
    },
    {
      "cell_type": "code",
      "metadata": {
        "id": "KvAHsu0CbAwi"
      },
      "source": [
        "!sudo apt-get install texlive-xetex texlive-fonts-recommended texlive-plain-generic"
      ],
      "execution_count": null,
      "outputs": []
    },
    {
      "cell_type": "code",
      "metadata": {
        "id": "0s_o_KMpbU1a"
      },
      "source": [
        "%cd /content/drive/MyDrive/Colab Notebooks"
      ],
      "execution_count": null,
      "outputs": []
    },
    {
      "cell_type": "code",
      "metadata": {
        "id": "IMTbAei0bY6v"
      },
      "source": [
        "!jupyter nbconvert \"Predicting One's Hirability Based on the Job Interview .ipynb\" --to latex"
      ],
      "execution_count": null,
      "outputs": []
    }
  ]
}